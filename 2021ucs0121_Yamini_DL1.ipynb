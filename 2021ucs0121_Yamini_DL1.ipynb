{
  "nbformat": 4,
  "nbformat_minor": 0,
  "metadata": {
    "colab": {
      "provenance": []
    },
    "kernelspec": {
      "name": "python3",
      "display_name": "Python 3"
    },
    "language_info": {
      "name": "python"
    }
  },
  "cells": [
    {
      "cell_type": "code",
      "execution_count": 2,
      "metadata": {
        "id": "Cq5p1h3sMUJ3"
      },
      "outputs": [],
      "source": [
        "import pandas as pd\n",
        "from sklearn.feature_extraction.text import TfidfVectorizer\n",
        "from sklearn.model_selection import train_test_split, cross_val_score, KFold\n",
        "from sklearn.linear_model import LogisticRegression\n",
        "from sklearn.naive_bayes import MultinomialNB\n",
        "from sklearn.svm import SVC\n",
        "from sklearn.ensemble import RandomForestClassifier\n",
        "from sklearn.neighbors import KNeighborsClassifier\n",
        "from sklearn.tree import DecisionTreeClassifier\n",
        "from sklearn.metrics import accuracy_score, precision_recall_fscore_support\n",
        "from sklearn.pipeline import make_pipeline\n"
      ]
    },
    {
      "cell_type": "code",
      "source": [
        "df = pd.read_csv('/content/Full_data.csv')\n",
        "print(df.head())\n",
        "print(df.columns)\n",
        "print(df.isnull().sum())"
      ],
      "metadata": {
        "colab": {
          "base_uri": "https://localhost:8080/"
        },
        "id": "GjkQf7oNOfIn",
        "outputId": "ba7ce3ce-bd1a-48f1-aabb-2237913b31b5"
      },
      "execution_count": 3,
      "outputs": [
        {
          "output_type": "stream",
          "name": "stdout",
          "text": [
            "                                           Statement  \\\n",
            "0  Yes, in 2023 Congress passed the fewest number...   \n",
            "1  It’s true: The US is an outlier on paid parent...   \n",
            "2  Has Wisconsin really had 12 elections since 20...   \n",
            "3  Yes, many Wisconsin police agencies have two o...   \n",
            "4  Did the 2020 presidential election in Wisconsi...   \n",
            "\n",
            "                                       Justification label  \\\n",
            "0  Last year, the 118th Congress passed only 27 b...  true   \n",
            "1  The U.S. is an outlier on paid maternity and p...  true   \n",
            "2  As of 2024, Wisconsin has had a dozen close-ca...  true   \n",
            "3  The Madison Police Department, the Sheboygan S...  true   \n",
            "4  Godlewski is taking wards together as an avera...  true   \n",
            "\n",
            "                                              source  \\\n",
            "0  \\nMark Pocan, Event at University of Madison-W...   \n",
            "1  \\nState Rep. Lisa Subeck D-Madison, X, Feb. 16...   \n",
            "2  \\nBrian Schimming, GOP press call, March 6, 20...   \n",
            "3  \\nTammy Baldwin, Press call with the Waukesha ...   \n",
            "4  \\nMilwaukee Journal Sentinel, 2020 Wisconsin E...   \n",
            "\n",
            "                                         explanation  \n",
            "0  Our ruling Pocan claimed that Congress last ye...  \n",
            "1  Our ruling Subeck said, \"The United States is ...  \n",
            "2  Our ruling On a March 6 GOP press call, Wiscon...  \n",
            "3  Our ruling Baldwin said police are \"facing sit...  \n",
            "4  Our ruling At a Waukesha rally, Secretary of S...  \n",
            "Index(['Statement', 'Justification', 'label', 'source', 'explanation'], dtype='object')\n",
            "Statement        0\n",
            "Justification    0\n",
            "label            0\n",
            "source           0\n",
            "explanation      0\n",
            "dtype: int64\n"
          ]
        }
      ]
    },
    {
      "cell_type": "code",
      "source": [
        "df = df.dropna()\n",
        "df['label'] = df['label'].replace('pants_fire', 'half_false')"
      ],
      "metadata": {
        "id": "InsDrmXGMZ8U"
      },
      "execution_count": 4,
      "outputs": []
    },
    {
      "cell_type": "code",
      "source": [
        "# Function to map labels to binary (True/False) classification\n",
        "def map_to_binary(label):\n",
        "    if label in ['true', 'mostly_true', 'half_true']:\n",
        "        return 'True'\n",
        "    else:\n",
        "        return 'False'\n",
        "\n",
        "df['binary_label'] = df['label'].apply(map_to_binary)"
      ],
      "metadata": {
        "id": "PPF-9VdAOjlH"
      },
      "execution_count": 5,
      "outputs": []
    },
    {
      "cell_type": "code",
      "source": [
        "print(\"Binary label distribution:\")\n",
        "print(df['binary_label'].value_counts())\n",
        "# Features (X) and labels (y) for both binary and multiclass classification\n",
        "X = df['Statement']\n",
        "y_multiclass = df['label']\n",
        "y_binary = df['binary_label']"
      ],
      "metadata": {
        "colab": {
          "base_uri": "https://localhost:8080/"
        },
        "id": "SriQRPK5OnfJ",
        "outputId": "4eae0335-ab4a-4d85-d20c-7287c8c25e51"
      },
      "execution_count": 6,
      "outputs": [
        {
          "output_type": "stream",
          "name": "stdout",
          "text": [
            "Binary label distribution:\n",
            "binary_label\n",
            "True     5781\n",
            "False    5107\n",
            "Name: count, dtype: int64\n"
          ]
        }
      ]
    },
    {
      "cell_type": "code",
      "source": [
        "X_train_multiclass, X_test_multiclass, y_train_multiclass, y_test_multiclass = train_test_split(\n",
        "    X, y_multiclass, test_size=0.2, random_state=42\n",
        ")\n",
        "X_train_binary, X_test_binary, y_train_binary, y_test_binary = train_test_split(\n",
        "    X, y_binary, test_size=0.2, random_state=42\n",
        ")"
      ],
      "metadata": {
        "id": "NYXHiDCWOqLf"
      },
      "execution_count": 7,
      "outputs": []
    },
    {
      "cell_type": "code",
      "source": [
        "# Function to evaluate a model using cross-validation and test performance\n",
        "def evaluate_model(model, X_train, y_train, X_test, y_test):\n",
        "    pipeline = make_pipeline(vectorizer, model)\n",
        "    kf = KFold(n_splits=5, shuffle=True, random_state=42)\n",
        "    cross_val_scores = cross_val_score(pipeline, X_train, y_train, cv=kf, scoring='accuracy')\n",
        "    print(f\"Cross-validation scores: {cross_val_scores}\")\n",
        "    print(f\"Mean CV Accuracy: {cross_val_scores.mean()}\")\n",
        "\n",
        "    pipeline.fit(X_train, y_train)\n",
        "    y_pred = pipeline.predict(X_test)\n",
        "    accuracy = accuracy_score(y_test, y_pred)\n",
        "    precision, recall, f1, _ = precision_recall_fscore_support(y_test, y_pred, average='binary', pos_label='True')\n",
        "\n",
        "    return accuracy, precision, recall, f1"
      ],
      "metadata": {
        "id": "QN91pqL6OstA"
      },
      "execution_count": 8,
      "outputs": []
    },
    {
      "cell_type": "code",
      "source": [
        "models = {\n",
        "    'Logistic Regression': LogisticRegression(),\n",
        "    'Naive Bayes': MultinomialNB(),\n",
        "    'Support Vector Machine': SVC(),\n",
        "    'Random Forest': RandomForestClassifier(),\n",
        "    'K-Nearest Neighbors': KNeighborsClassifier(),\n",
        "    'Decision Tree': DecisionTreeClassifier()\n",
        "}"
      ],
      "metadata": {
        "id": "sA7CbkGAOvYI"
      },
      "execution_count": 9,
      "outputs": []
    },
    {
      "cell_type": "code",
      "source": [
        "vectorizer = TfidfVectorizer(stop_words='english')"
      ],
      "metadata": {
        "id": "YJ-1gQvxPFQj"
      },
      "execution_count": 10,
      "outputs": []
    },
    {
      "cell_type": "code",
      "source": [
        "def evaluate_model(model, X_train, y_train, X_test, y_test, is_multiclass=False):\n",
        "    pipeline = make_pipeline(vectorizer, model)\n",
        "    kf = StratifiedKFold(n_splits=5, shuffle=True, random_state=42) if not is_multiclass else KFold(n_splits=500, shuffle=True, random_state=42)\n",
        "    cross_val_scores = cross_val_score(pipeline, X_train, y_train, cv=kf, scoring='accuracy')\n",
        "    print(f\"Cross-validation scores: {cross_val_scores}\")\n",
        "    print(f\"Mean CV Accuracy: {cross_val_scores.mean()}\")\n",
        "\n",
        "    pipeline.fit(X_train, y_train)\n",
        "    y_pred = pipeline.predict(X_test)\n",
        "    accuracy = accuracy_score(y_test, y_pred)\n",
        "\n",
        "    if is_multiclass:\n",
        "        precision, recall, f1, _ = precision_recall_fscore_support(y_test, y_pred, average='weighted')\n",
        "    else:\n",
        "        precision, recall, f1, _ = precision_recall_fscore_support(y_test, y_pred, average='binary', pos_label='True')\n",
        "\n",
        "    return accuracy, precision, recall, f1"
      ],
      "metadata": {
        "id": "po4hBSmUekxY"
      },
      "execution_count": 11,
      "outputs": []
    },
    {
      "cell_type": "markdown",
      "source": [
        "# Binary Classification"
      ],
      "metadata": {
        "id": "8Sdt4usqeYF1"
      }
    },
    {
      "cell_type": "code",
      "source": [
        "print(\"Evaluating Binary Classification Models\")\n",
        "for name, model in models.items():\n",
        "    print(f\"\\n{name} - Binary Classification\")\n",
        "    accuracy, precision, recall, f1 = evaluate_model(model, X_train_binary, y_train_binary, X_test_binary, y_test_binary)\n",
        "    print(f\"Accuracy: {accuracy}\")\n",
        "    print(f\"Precision: {precision}\")\n",
        "    print(f\"Recall: {recall}\")\n",
        "    print(f\"F1-Score: {f1}\")"
      ],
      "metadata": {
        "colab": {
          "base_uri": "https://localhost:8080/"
        },
        "id": "jV5wBa77OyTy",
        "outputId": "de93b3a4-6c6f-41e7-c1ac-1c70b4567a02"
      },
      "execution_count": 16,
      "outputs": [
        {
          "output_type": "stream",
          "name": "stdout",
          "text": [
            "Evaluating Binary Classification Models\n",
            "\n",
            "Logistic Regression - Binary Classification\n",
            "Cross-validation scores: [0.67967853 0.67164179 0.66590126 0.68541906 0.65671642]\n",
            "Mean CV Accuracy: 0.6718714121699196\n",
            "Accuracy: 0.6951331496786042\n",
            "Precision: 0.6966640806826998\n",
            "Recall: 0.7668659265584971\n",
            "F1-Score: 0.7300813008130081\n",
            "\n",
            "Naive Bayes - Binary Classification\n",
            "Cross-validation scores: [0.66877153 0.67049369 0.6641791  0.68140069 0.6435132 ]\n",
            "Mean CV Accuracy: 0.6656716417910448\n",
            "Accuracy: 0.679981634527089\n",
            "Precision: 0.6945812807881774\n",
            "Recall: 0.7224594363791631\n",
            "F1-Score: 0.7082461280870658\n",
            "\n",
            "Support Vector Machine - Binary Classification\n",
            "Cross-validation scores: [0.68771527 0.67106774 0.67623421 0.69919633 0.66245695]\n",
            "Mean CV Accuracy: 0.6793340987370838\n",
            "Accuracy: 0.699265381083563\n",
            "Precision: 0.6942771084337349\n",
            "Recall: 0.7873612297181896\n",
            "F1-Score: 0.7378951580632254\n",
            "\n",
            "Random Forest - Binary Classification\n",
            "Cross-validation scores: [0.66819747 0.66762342 0.65671642 0.66532721 0.65040184]\n",
            "Mean CV Accuracy: 0.6616532721010333\n",
            "Accuracy: 0.6900826446280992\n",
            "Precision: 0.711965811965812\n",
            "Recall: 0.7113578138343296\n",
            "F1-Score: 0.7116616830414353\n",
            "\n",
            "K-Nearest Neighbors - Binary Classification\n",
            "Cross-validation scores: [0.64121699 0.61251435 0.59644087 0.6228473  0.59299656]\n",
            "Mean CV Accuracy: 0.613203214695752\n",
            "Accuracy: 0.5991735537190083\n",
            "Precision: 0.685785536159601\n",
            "Recall: 0.46968403074295473\n",
            "F1-Score: 0.5575266092245312\n",
            "\n",
            "Decision Tree - Binary Classification\n",
            "Cross-validation scores: [0.60734788 0.60734788 0.60160735 0.62055109 0.58438576]\n",
            "Mean CV Accuracy: 0.604247990815155\n",
            "Accuracy: 0.5968778696051423\n",
            "Precision: 0.6299911268855368\n",
            "Recall: 0.6063193851409052\n",
            "F1-Score: 0.61792863359443\n"
          ]
        }
      ]
    },
    {
      "cell_type": "markdown",
      "source": [
        "# Multiclass Classification"
      ],
      "metadata": {
        "id": "47AG2SzReeZU"
      }
    },
    {
      "cell_type": "code",
      "source": [
        "print(\"\\nEvaluating Multiclass Classification Models\")\n",
        "for name, model in models.items():\n",
        "    if isinstance(model, LogisticRegression):\n",
        "        model.set_params(max_iter=200)\n",
        "\n",
        "    print(f\"\\n{name} - Multiclass Classification\")\n",
        "    accuracy, precision, recall, f1 = evaluate_model(model, X_train_multiclass, y_train_multiclass, X_test_multiclass, y_test_multiclass, is_multiclass=True)\n",
        "    print(f\"Accuracy: {accuracy}\")\n",
        "    print(f\"Precision: {precision}\")\n",
        "    print(f\"Recall: {recall}\")\n",
        "    print(f\"F1-Score: {f1}\")"
      ],
      "metadata": {
        "colab": {
          "base_uri": "https://localhost:8080/"
        },
        "id": "aIvFLJjFeG-b",
        "outputId": "a6106272-9f43-47ab-fc0b-456f13843178"
      },
      "execution_count": null,
      "outputs": [
        {
          "metadata": {
            "tags": null
          },
          "name": "stdout",
          "output_type": "stream",
          "text": [
            "\n",
            "Evaluating Multiclass Classification Models\n",
            "\n",
            "Logistic Regression - Multiclass Classification\n",
            "Cross-validation scores: [0.61111111 0.38888889 0.5        0.38888889 0.5        0.66666667\n",
            " 0.38888889 0.38888889 0.44444444 0.44444444 0.27777778 0.5\n",
            " 0.38888889 0.22222222 0.38888889 0.55555556 0.61111111 0.44444444\n",
            " 0.38888889 0.55555556 0.61111111 0.22222222 0.55555556 0.44444444\n",
            " 0.44444444 0.77777778 0.66666667 0.5        0.66666667 0.61111111\n",
            " 0.33333333 0.5        0.61111111 0.38888889 0.33333333 0.38888889\n",
            " 0.61111111 0.61111111 0.38888889 0.5        0.5        0.55555556\n",
            " 0.33333333 0.44444444 0.55555556 0.38888889 0.27777778 0.5\n",
            " 0.61111111 0.33333333 0.55555556 0.55555556 0.44444444 0.38888889\n",
            " 0.38888889 0.44444444 0.5        0.38888889 0.33333333 0.33333333\n",
            " 0.61111111 0.44444444 0.33333333 0.44444444 0.61111111 0.5\n",
            " 0.27777778 0.44444444 0.5        0.22222222 0.61111111 0.5\n",
            " 0.5        0.44444444 0.5        0.44444444 0.38888889 0.55555556\n",
            " 0.5        0.55555556 0.44444444 0.55555556 0.44444444 0.38888889\n",
            " 0.44444444 0.5        0.61111111 0.38888889 0.27777778 0.55555556\n",
            " 0.22222222 0.33333333 0.33333333 0.44444444 0.5        0.44444444\n",
            " 0.38888889 0.5        0.33333333 0.61111111 0.44444444 0.33333333\n",
            " 0.55555556 0.44444444 0.33333333 0.55555556 0.61111111 0.5\n",
            " 0.61111111 0.38888889 0.66666667 0.33333333 0.55555556 0.55555556\n",
            " 0.61111111 0.38888889 0.61111111 0.44444444 0.38888889 0.5\n",
            " 0.5        0.22222222 0.38888889 0.38888889 0.66666667 0.44444444\n",
            " 0.55555556 0.44444444 0.27777778 0.22222222 0.38888889 0.5\n",
            " 0.33333333 0.38888889 0.55555556 0.61111111 0.44444444 0.5\n",
            " 0.5        0.55555556 0.5        0.27777778 0.61111111 0.33333333\n",
            " 0.38888889 0.38888889 0.44444444 0.66666667 0.44444444 0.61111111\n",
            " 0.5        0.55555556 0.16666667 0.5        0.44444444 0.5\n",
            " 0.44444444 0.55555556 0.22222222 0.38888889 0.66666667 0.55555556\n",
            " 0.38888889 0.5        0.27777778 0.55555556 0.44444444 0.38888889\n",
            " 0.44444444 0.33333333 0.44444444 0.55555556 0.55555556 0.44444444\n",
            " 0.33333333 0.55555556 0.55555556 0.44444444 0.5        0.5\n",
            " 0.61111111 0.5        0.44444444 0.77777778 0.55555556 0.61111111\n",
            " 0.61111111 0.38888889 0.44444444 0.44444444 0.5        0.38888889\n",
            " 0.44444444 0.33333333 0.38888889 0.38888889 0.5        0.38888889\n",
            " 0.55555556 0.66666667 0.5        0.5        0.38888889 0.55555556\n",
            " 0.61111111 0.5        0.61111111 0.22222222 0.55555556 0.33333333\n",
            " 0.64705882 0.41176471 0.58823529 0.52941176 0.41176471 0.47058824\n",
            " 0.35294118 0.64705882 0.35294118 0.35294118 0.58823529 0.52941176\n",
            " 0.29411765 0.35294118 0.47058824 0.58823529 0.41176471 0.58823529\n",
            " 0.35294118 0.52941176 0.41176471 0.41176471 0.41176471 0.23529412\n",
            " 0.64705882 0.47058824 0.29411765 0.35294118 0.47058824 0.47058824\n",
            " 0.52941176 0.29411765 0.58823529 0.52941176 0.35294118 0.52941176\n",
            " 0.29411765 0.58823529 0.52941176 0.52941176 0.35294118 0.41176471\n",
            " 0.52941176 0.52941176 0.35294118 0.70588235 0.70588235 0.64705882\n",
            " 0.47058824 0.47058824 0.47058824 0.58823529 0.23529412 0.23529412\n",
            " 0.52941176 0.47058824 0.35294118 0.17647059 0.58823529 0.52941176\n",
            " 0.52941176 0.41176471 0.29411765 0.52941176 0.41176471 0.29411765\n",
            " 0.58823529 0.41176471 0.70588235 0.52941176 0.47058824 0.52941176\n",
            " 0.35294118 0.35294118 0.76470588 0.52941176 0.52941176 0.52941176\n",
            " 0.47058824 0.41176471 0.52941176 0.35294118 0.64705882 0.52941176\n",
            " 0.70588235 0.52941176 0.47058824 0.29411765 0.64705882 0.47058824\n",
            " 0.47058824 0.41176471 0.41176471 0.35294118 0.52941176 0.52941176\n",
            " 0.47058824 0.52941176 0.64705882 0.41176471 0.47058824 0.41176471\n",
            " 0.35294118 0.47058824 0.52941176 0.52941176 0.47058824 0.47058824\n",
            " 0.52941176 0.52941176 0.47058824 0.41176471 0.58823529 0.35294118\n",
            " 0.47058824 0.52941176 0.52941176 0.47058824 0.64705882 0.47058824\n",
            " 0.29411765 0.41176471 0.47058824 0.47058824 0.35294118 0.52941176\n",
            " 0.29411765 0.58823529 0.76470588 0.52941176 0.23529412 0.35294118\n",
            " 0.41176471 0.64705882 0.52941176 0.35294118 0.17647059 0.23529412\n",
            " 0.52941176 0.64705882 0.58823529 0.58823529 0.52941176 0.52941176\n",
            " 0.29411765 0.52941176 0.41176471 0.52941176 0.52941176 0.58823529\n",
            " 0.58823529 0.35294118 0.52941176 0.41176471 0.17647059 0.52941176\n",
            " 0.35294118 0.47058824 0.41176471 0.29411765 0.58823529 0.58823529\n",
            " 0.70588235 0.52941176 0.64705882 0.23529412 0.47058824 0.52941176\n",
            " 0.41176471 0.52941176 0.41176471 0.23529412 0.47058824 0.52941176\n",
            " 0.47058824 0.52941176 0.64705882 0.64705882 0.52941176 0.58823529\n",
            " 0.52941176 0.41176471 0.47058824 0.29411765 0.58823529 0.35294118\n",
            " 0.58823529 0.58823529 0.64705882 0.23529412 0.35294118 0.58823529\n",
            " 0.47058824 0.47058824 0.41176471 0.52941176 0.29411765 0.64705882\n",
            " 0.47058824 0.41176471 0.29411765 0.52941176 0.41176471 0.52941176\n",
            " 0.47058824 0.29411765 0.35294118 0.35294118 0.47058824 0.58823529\n",
            " 0.35294118 0.41176471 0.52941176 0.35294118 0.47058824 0.35294118\n",
            " 0.41176471 0.52941176 0.58823529 0.41176471 0.58823529 0.58823529\n",
            " 0.52941176 0.52941176 0.47058824 0.52941176 0.52941176 0.41176471\n",
            " 0.47058824 0.47058824 0.47058824 0.41176471 0.41176471 0.70588235\n",
            " 0.58823529 0.47058824 0.41176471 0.58823529 0.52941176 0.41176471\n",
            " 0.52941176 0.58823529 0.35294118 0.52941176 0.35294118 0.41176471\n",
            " 0.41176471 0.52941176 0.41176471 0.70588235 0.58823529 0.41176471\n",
            " 0.52941176 0.35294118 0.52941176 0.52941176 0.41176471 0.47058824\n",
            " 0.41176471 0.29411765 0.17647059 0.41176471 0.29411765 0.47058824\n",
            " 0.35294118 0.29411765 0.52941176 0.52941176 0.47058824 0.52941176\n",
            " 0.70588235 0.47058824 0.70588235 0.52941176 0.52941176 0.29411765\n",
            " 0.52941176 0.52941176 0.41176471 0.52941176 0.35294118 0.41176471\n",
            " 0.29411765 0.41176471 0.58823529 0.35294118 0.52941176 0.35294118\n",
            " 0.58823529 0.29411765]\n",
            "Mean CV Accuracy: 0.4688235294117647\n",
            "Accuracy: 0.4834710743801653\n",
            "Precision: 0.47878645648546886\n",
            "Recall: 0.4834710743801653\n",
            "F1-Score: 0.47662047138847335\n",
            "\n",
            "Naive Bayes - Multiclass Classification\n",
            "Cross-validation scores: [0.5        0.22222222 0.44444444 0.27777778 0.55555556 0.55555556\n",
            " 0.38888889 0.44444444 0.44444444 0.44444444 0.11111111 0.5\n",
            " 0.44444444 0.27777778 0.33333333 0.5        0.44444444 0.44444444\n",
            " 0.44444444 0.5        0.38888889 0.27777778 0.44444444 0.5\n",
            " 0.33333333 0.72222222 0.5        0.38888889 0.55555556 0.66666667\n",
            " 0.27777778 0.38888889 0.55555556 0.33333333 0.38888889 0.44444444\n",
            " 0.44444444 0.55555556 0.33333333 0.55555556 0.5        0.5\n",
            " 0.33333333 0.44444444 0.44444444 0.27777778 0.33333333 0.38888889\n",
            " 0.38888889 0.33333333 0.44444444 0.5        0.22222222 0.5\n",
            " 0.33333333 0.33333333 0.5        0.22222222 0.33333333 0.22222222\n",
            " 0.61111111 0.5        0.38888889 0.38888889 0.5        0.44444444\n",
            " 0.33333333 0.38888889 0.5        0.16666667 0.38888889 0.27777778\n",
            " 0.5        0.44444444 0.27777778 0.27777778 0.44444444 0.55555556\n",
            " 0.44444444 0.44444444 0.44444444 0.5        0.38888889 0.33333333\n",
            " 0.5        0.38888889 0.66666667 0.22222222 0.44444444 0.38888889\n",
            " 0.22222222 0.27777778 0.27777778 0.44444444 0.38888889 0.44444444\n",
            " 0.38888889 0.44444444 0.55555556 0.55555556 0.44444444 0.22222222\n",
            " 0.61111111 0.33333333 0.33333333 0.44444444 0.5        0.38888889\n",
            " 0.61111111 0.38888889 0.44444444 0.33333333 0.55555556 0.38888889\n",
            " 0.44444444 0.33333333 0.5        0.44444444 0.27777778 0.5\n",
            " 0.55555556 0.22222222 0.38888889 0.33333333 0.72222222 0.38888889\n",
            " 0.44444444 0.55555556 0.38888889 0.22222222 0.33333333 0.5\n",
            " 0.16666667 0.33333333 0.33333333 0.55555556 0.5        0.55555556\n",
            " 0.55555556 0.55555556 0.55555556 0.27777778 0.5        0.22222222\n",
            " 0.33333333 0.38888889 0.33333333 0.61111111 0.38888889 0.55555556\n",
            " 0.33333333 0.5        0.11111111 0.38888889 0.38888889 0.44444444\n",
            " 0.44444444 0.55555556 0.16666667 0.33333333 0.55555556 0.55555556\n",
            " 0.33333333 0.55555556 0.22222222 0.5        0.44444444 0.33333333\n",
            " 0.44444444 0.27777778 0.5        0.44444444 0.44444444 0.33333333\n",
            " 0.55555556 0.38888889 0.55555556 0.44444444 0.5        0.33333333\n",
            " 0.44444444 0.38888889 0.55555556 0.61111111 0.38888889 0.55555556\n",
            " 0.38888889 0.38888889 0.27777778 0.44444444 0.55555556 0.5\n",
            " 0.33333333 0.33333333 0.33333333 0.27777778 0.38888889 0.38888889\n",
            " 0.61111111 0.5        0.44444444 0.5        0.33333333 0.55555556\n",
            " 0.44444444 0.5        0.38888889 0.33333333 0.5        0.27777778\n",
            " 0.41176471 0.47058824 0.52941176 0.52941176 0.23529412 0.64705882\n",
            " 0.35294118 0.41176471 0.41176471 0.29411765 0.52941176 0.41176471\n",
            " 0.17647059 0.17647059 0.29411765 0.64705882 0.23529412 0.47058824\n",
            " 0.41176471 0.47058824 0.35294118 0.41176471 0.35294118 0.35294118\n",
            " 0.58823529 0.35294118 0.23529412 0.29411765 0.41176471 0.47058824\n",
            " 0.23529412 0.52941176 0.52941176 0.58823529 0.29411765 0.47058824\n",
            " 0.29411765 0.52941176 0.29411765 0.41176471 0.23529412 0.41176471\n",
            " 0.29411765 0.41176471 0.52941176 0.58823529 0.35294118 0.35294118\n",
            " 0.47058824 0.41176471 0.41176471 0.52941176 0.35294118 0.29411765\n",
            " 0.47058824 0.52941176 0.41176471 0.23529412 0.47058824 0.41176471\n",
            " 0.47058824 0.52941176 0.29411765 0.41176471 0.35294118 0.23529412\n",
            " 0.58823529 0.47058824 0.58823529 0.47058824 0.41176471 0.35294118\n",
            " 0.35294118 0.35294118 0.70588235 0.58823529 0.35294118 0.35294118\n",
            " 0.58823529 0.47058824 0.47058824 0.47058824 0.52941176 0.52941176\n",
            " 0.70588235 0.52941176 0.52941176 0.23529412 0.52941176 0.41176471\n",
            " 0.52941176 0.47058824 0.11764706 0.41176471 0.52941176 0.58823529\n",
            " 0.52941176 0.47058824 0.52941176 0.47058824 0.47058824 0.76470588\n",
            " 0.41176471 0.47058824 0.47058824 0.47058824 0.35294118 0.47058824\n",
            " 0.47058824 0.41176471 0.47058824 0.35294118 0.41176471 0.47058824\n",
            " 0.70588235 0.47058824 0.41176471 0.41176471 0.58823529 0.35294118\n",
            " 0.17647059 0.58823529 0.35294118 0.41176471 0.47058824 0.52941176\n",
            " 0.23529412 0.52941176 0.52941176 0.41176471 0.23529412 0.29411765\n",
            " 0.35294118 0.64705882 0.41176471 0.35294118 0.23529412 0.23529412\n",
            " 0.58823529 0.64705882 0.41176471 0.58823529 0.52941176 0.47058824\n",
            " 0.35294118 0.35294118 0.52941176 0.41176471 0.41176471 0.52941176\n",
            " 0.52941176 0.29411765 0.41176471 0.17647059 0.11764706 0.35294118\n",
            " 0.35294118 0.35294118 0.41176471 0.23529412 0.47058824 0.58823529\n",
            " 0.52941176 0.41176471 0.47058824 0.35294118 0.47058824 0.41176471\n",
            " 0.35294118 0.52941176 0.47058824 0.17647059 0.29411765 0.41176471\n",
            " 0.47058824 0.58823529 0.47058824 0.64705882 0.29411765 0.47058824\n",
            " 0.47058824 0.52941176 0.58823529 0.35294118 0.58823529 0.41176471\n",
            " 0.52941176 0.52941176 0.41176471 0.41176471 0.41176471 0.64705882\n",
            " 0.58823529 0.52941176 0.35294118 0.41176471 0.35294118 0.58823529\n",
            " 0.41176471 0.23529412 0.35294118 0.35294118 0.29411765 0.58823529\n",
            " 0.29411765 0.23529412 0.29411765 0.41176471 0.35294118 0.52941176\n",
            " 0.41176471 0.35294118 0.58823529 0.47058824 0.41176471 0.35294118\n",
            " 0.41176471 0.41176471 0.47058824 0.41176471 0.52941176 0.58823529\n",
            " 0.52941176 0.47058824 0.58823529 0.35294118 0.52941176 0.41176471\n",
            " 0.64705882 0.35294118 0.35294118 0.35294118 0.52941176 0.58823529\n",
            " 0.47058824 0.47058824 0.41176471 0.58823529 0.41176471 0.35294118\n",
            " 0.47058824 0.35294118 0.11764706 0.58823529 0.64705882 0.23529412\n",
            " 0.29411765 0.47058824 0.47058824 0.47058824 0.41176471 0.41176471\n",
            " 0.41176471 0.29411765 0.52941176 0.52941176 0.52941176 0.35294118\n",
            " 0.52941176 0.35294118 0.23529412 0.41176471 0.29411765 0.52941176\n",
            " 0.29411765 0.29411765 0.58823529 0.64705882 0.35294118 0.35294118\n",
            " 0.64705882 0.41176471 0.70588235 0.35294118 0.47058824 0.41176471\n",
            " 0.52941176 0.47058824 0.35294118 0.35294118 0.29411765 0.29411765\n",
            " 0.35294118 0.47058824 0.52941176 0.41176471 0.29411765 0.41176471\n",
            " 0.47058824 0.23529412]\n",
            "Mean CV Accuracy: 0.4261111111111111\n",
            "Accuracy: 0.4251606978879706\n",
            "Precision: 0.4797038613091633\n",
            "Recall: 0.4251606978879706\n",
            "F1-Score: 0.4077526916188231\n",
            "\n",
            "Support Vector Machine - Multiclass Classification\n"
          ]
        }
      ]
    },
    {
      "cell_type": "markdown",
      "source": [
        "Changing the approach as the result is getting truncated."
      ],
      "metadata": {
        "id": "H7ttaOy8L708"
      }
    },
    {
      "cell_type": "code",
      "source": [
        "def create_model(name, params):\n",
        "    \"\"\"Create and configure a model based on name and parameters.\"\"\"\n",
        "    if name == 'LogisticRegression':\n",
        "        return LogisticRegression(**params)\n",
        "    elif name == 'SVC':\n",
        "        return SVC(**params)\n",
        "    elif name == 'RandomForestClassifier':\n",
        "        return RandomForestClassifier(**params)\n",
        "    elif name == 'NaiveBayes':\n",
        "        return MultinomialNB(**params)\n",
        "    elif name == 'KNeighborsClassifier':\n",
        "        return KNeighborsClassifier(**params)\n",
        "    elif name == 'DecisionTreeClassifier':\n",
        "        return DecisionTreeClassifier(**params)\n",
        "    else:\n",
        "        raise ValueError(f\"Model '{name}' not recognized.\")\n",
        "# Perform cross-validation and return the mean accuracy\n",
        "def perform_cross_validation(model, X_train, y_train):\n",
        "    \"\"\"Perform cross-validation and return mean accuracy.\"\"\"\n",
        "    pipeline = make_pipeline(vectorizer, model)\n",
        "    kf = KFold(n_splits=5, shuffle=True, random_state=42)\n",
        "    cross_val_scores = cross_val_score(pipeline, X_train, y_train, cv=kf, scoring='accuracy', n_jobs=-1)\n",
        "    return cross_val_scores.mean()\n",
        "\n",
        "def evaluate_model(model, X_train, y_train, X_test, y_test, is_multiclass=False):\n",
        "    \"\"\"Evaluate the model and return performance metrics.\"\"\"\n",
        "    pipeline = make_pipeline(vectorizer, model)\n",
        "    pipeline.fit(X_train, y_train)\n",
        "    y_pred = pipeline.predict(X_test)\n",
        "\n",
        "    accuracy = accuracy_score(y_test, y_pred)\n",
        "    if is_multiclass:\n",
        "        precision, recall, f1, _ = precision_recall_fscore_support(y_test, y_pred, average='weighted')\n",
        "    else:\n",
        "        precision, recall, f1, _ = precision_recall_fscore_support(y_test, y_pred, average='binary', pos_label='True')\n",
        "\n",
        "    return accuracy, precision, recall, f1\n",
        "\n",
        "def main(models, X_train, y_train, X_test, y_test, is_multiclass=False):\n",
        "    \"\"\"Main function to evaluate all models.\"\"\"\n",
        "    for name, params in models.items():\n",
        "        model = create_model(name, params)\n",
        "        print(f\"\\nEvaluating {name} - Multiclass Classification\")\n",
        "\n",
        "\n",
        "        mean_cv_accuracy = perform_cross_validation(model, X_train, y_train)\n",
        "        print(f\"Mean CV Accuracy: {mean_cv_accuracy}\")\n",
        "\n",
        "\n",
        "        accuracy, precision, recall, f1 = evaluate_model(model, X_train, y_train, X_test, y_test, is_multiclass)\n",
        "        print(f\"Accuracy: {accuracy}\")\n",
        "        print(f\"Precision: {precision}\")\n",
        "        print(f\"Recall: {recall}\")\n",
        "        print(f\"F1-Score: {f1}\")"
      ],
      "metadata": {
        "id": "zg_gG_apJ1O2"
      },
      "execution_count": 12,
      "outputs": []
    },
    {
      "cell_type": "code",
      "source": [
        "models = {\n",
        "    'LogisticRegression': {'max_iter': 200, 'verbose': 1}\n",
        "}\n",
        "\n",
        "main(models, X_train_multiclass, y_train_multiclass, X_test_multiclass, y_test_multiclass, is_multiclass=True)"
      ],
      "metadata": {
        "colab": {
          "base_uri": "https://localhost:8080/"
        },
        "id": "ecs6TXwcJ3Ek",
        "outputId": "70979557-5afb-4a87-b9c3-a2df83c5b887"
      },
      "execution_count": 13,
      "outputs": [
        {
          "output_type": "stream",
          "name": "stdout",
          "text": [
            "\n",
            "Evaluating LogisticRegression - Multiclass Classification\n",
            "Mean CV Accuracy: 0.4605051664753157\n",
            "Accuracy: 0.4834710743801653\n",
            "Precision: 0.47878645648546886\n",
            "Recall: 0.4834710743801653\n",
            "F1-Score: 0.47662047138847335\n"
          ]
        }
      ]
    },
    {
      "cell_type": "code",
      "source": [
        "models = {\n",
        "    'SVC': {'kernel': 'linear', 'C': 1.0}\n",
        "}\n",
        "main(models, X_train_multiclass, y_train_multiclass, X_test_multiclass, y_test_multiclass, is_multiclass=True)"
      ],
      "metadata": {
        "colab": {
          "base_uri": "https://localhost:8080/"
        },
        "id": "xr4N4ZIpKG6T",
        "outputId": "105405ae-aaf2-4a4b-8cfd-c9f3ebf95deb"
      },
      "execution_count": 14,
      "outputs": [
        {
          "output_type": "stream",
          "name": "stdout",
          "text": [
            "\n",
            "Evaluating SVC - Multiclass Classification\n",
            "Mean CV Accuracy: 0.46303099885189436\n",
            "Accuracy: 0.47750229568411384\n",
            "Precision: 0.47595132325045264\n",
            "Recall: 0.47750229568411384\n",
            "F1-Score: 0.4734575633368492\n"
          ]
        }
      ]
    },
    {
      "cell_type": "code",
      "source": [
        "models = {\n",
        "    'RandomForestClassifier': {'n_estimators': 100, 'max_depth': 10, 'random_state': 42}\n",
        "}\n",
        "main(models, X_train_multiclass, y_train_multiclass, X_test_multiclass, y_test_multiclass, is_multiclass=True)"
      ],
      "metadata": {
        "colab": {
          "base_uri": "https://localhost:8080/"
        },
        "id": "crSv3CLQKxia",
        "outputId": "7f326c56-b888-4091-907d-070b9e84d932"
      },
      "execution_count": 15,
      "outputs": [
        {
          "output_type": "stream",
          "name": "stdout",
          "text": [
            "\n",
            "Evaluating RandomForestClassifier - Multiclass Classification\n",
            "Mean CV Accuracy: 0.34362801377726754\n",
            "Accuracy: 0.33746556473829203\n",
            "Precision: 0.5067920087842757\n",
            "Recall: 0.33746556473829203\n",
            "F1-Score: 0.26978841764234873\n"
          ]
        },
        {
          "output_type": "stream",
          "name": "stderr",
          "text": [
            "/usr/local/lib/python3.10/dist-packages/sklearn/metrics/_classification.py:1471: UndefinedMetricWarning: Precision and F-score are ill-defined and being set to 0.0 in labels with no predicted samples. Use `zero_division` parameter to control this behavior.\n",
            "  _warn_prf(average, modifier, msg_start, len(result))\n"
          ]
        }
      ]
    },
    {
      "cell_type": "code",
      "source": [
        "models = {\n",
        "    'NaiveBayes': {}\n",
        "}\n",
        "main(models, X_train_multiclass, y_train_multiclass, X_test_multiclass, y_test_multiclass, is_multiclass=True)"
      ],
      "metadata": {
        "colab": {
          "base_uri": "https://localhost:8080/"
        },
        "id": "r3kcWSLRK4m8",
        "outputId": "c0a198c2-dc30-4287-a77d-cd09e2b960f5"
      },
      "execution_count": 16,
      "outputs": [
        {
          "output_type": "stream",
          "name": "stdout",
          "text": [
            "\n",
            "Evaluating NaiveBayes - Multiclass Classification\n",
            "Mean CV Accuracy: 0.42078071182548793\n",
            "Accuracy: 0.4251606978879706\n",
            "Precision: 0.4797038613091633\n",
            "Recall: 0.4251606978879706\n",
            "F1-Score: 0.4077526916188231\n"
          ]
        }
      ]
    },
    {
      "cell_type": "code",
      "source": [
        "models = {\n",
        "    'KNeighborsClassifier': {'n_neighbors': 5, 'algorithm': 'auto'}\n",
        "}\n",
        "main(models, X_train_multiclass, y_train_multiclass, X_test_multiclass, y_test_multiclass, is_multiclass=True)"
      ],
      "metadata": {
        "colab": {
          "base_uri": "https://localhost:8080/"
        },
        "id": "NgAXh5IdK46p",
        "outputId": "e6173675-81ca-470e-b31d-1aa877b26240"
      },
      "execution_count": 17,
      "outputs": [
        {
          "output_type": "stream",
          "name": "stdout",
          "text": [
            "\n",
            "Evaluating KNeighborsClassifier - Multiclass Classification\n",
            "Mean CV Accuracy: 0.3680826636050517\n",
            "Accuracy: 0.36363636363636365\n",
            "Precision: 0.3974913594229862\n",
            "Recall: 0.36363636363636365\n",
            "F1-Score: 0.3542821640800049\n"
          ]
        }
      ]
    },
    {
      "cell_type": "code",
      "source": [
        "models = {\n",
        "    'DecisionTreeClassifier': {'max_depth': 5, 'random_state': 42}\n",
        "}\n",
        "main(models, X_train_multiclass, y_train_multiclass, X_test_multiclass, y_test_multiclass, is_multiclass=True)"
      ],
      "metadata": {
        "colab": {
          "base_uri": "https://localhost:8080/"
        },
        "id": "SvbK5F5jK5K7",
        "outputId": "2193f2cc-10d1-43d9-855a-d59ff63c7c94"
      },
      "execution_count": 18,
      "outputs": [
        {
          "output_type": "stream",
          "name": "stdout",
          "text": [
            "\n",
            "Evaluating DecisionTreeClassifier - Multiclass Classification\n",
            "Mean CV Accuracy: 0.31216991963260615\n",
            "Accuracy: 0.3076216712580349\n",
            "Precision: 0.46587169480755647\n",
            "Recall: 0.3076216712580349\n",
            "F1-Score: 0.23473987638072363\n"
          ]
        }
      ]
    },
    {
      "cell_type": "markdown",
      "source": [
        "# To deal with overfitting and underfitting"
      ],
      "metadata": {
        "id": "z2ZdVBdtXqDX"
      }
    },
    {
      "cell_type": "markdown",
      "source": [
        "Key Points:\n",
        "\n",
        "*  Logistic Regression: Adjusting the C parameter to control regularization, max_iter for convergence, and using solver for optimization.\n",
        "\n",
        "*  Naive Bayes: Smoothing using the alpha parameter to handle zero probabilities.\n",
        "\n",
        "*   SVC: Regularization controlled by C, and kernel choice (linear) to match problem complexity.\n",
        "* Random Forest: Control tree depth (max_depth) and number of estimators (n_estimators) to balance complexity and prevent overfitting.\n",
        "\n",
        "\n",
        "* K-Nearest Neighbors: Adjust n_neighbors to balance bias and variance.\n",
        "\n",
        "*  Decision Tree: Prune the tree by setting max_depth to limit complexity and avoid overfitting.\n",
        "\n",
        "\n",
        "\n",
        "\n",
        "\n"
      ],
      "metadata": {
        "id": "rD6g6nMCXv5f"
      }
    },
    {
      "cell_type": "code",
      "source": [
        "import matplotlib.pyplot as plt\n",
        "from sklearn.model_selection import learning_curve\n",
        "import numpy as np\n",
        "\n",
        "def plot_learning_curves(model, X_train, y_train, X_test, y_test):\n",
        "    \"\"\"\n",
        "    Plot learning curves for a given model.\n",
        "    \"\"\"\n",
        "    train_sizes, train_scores, validation_scores = learning_curve(\n",
        "        model, X_train, y_train, cv=5, n_jobs=-1,\n",
        "        train_sizes=np.linspace(0.1, 1.0, 10), scoring='accuracy'\n",
        "    )\n",
        "\n",
        "    train_scores_mean = np.mean(train_scores, axis=1)\n",
        "    validation_scores_mean = np.mean(validation_scores, axis=1)\n",
        "\n",
        "    plt.figure(figsize=(10, 6))\n",
        "    plt.plot(train_sizes, train_scores_mean, 'o-', color='r', label='Training score')\n",
        "    plt.plot(train_sizes, validation_scores_mean, 'o-', color='g', label='Validation score')\n",
        "    plt.xlabel('Training Set Size')\n",
        "    plt.ylabel('Accuracy')\n",
        "    plt.title('Learning Curves')\n",
        "    plt.legend(loc='best')\n",
        "    plt.grid()\n",
        "    plt.show()\n",
        "\n",
        "model = LogisticRegression(C=1.0, max_iter=200, solver='liblinear', verbose=1)\n",
        "plot_learning_curves(model, X_train_binary, y_train_binary, X_test_binary, y_test_binary)\n"
      ],
      "metadata": {
        "id": "Mf198IWpYBxN"
      },
      "execution_count": null,
      "outputs": []
    },
    {
      "cell_type": "code",
      "source": [
        "from sklearn.model_selection import validation_curve\n",
        "\n",
        "def plot_validation_curve(model, X_train, y_train, param_name, param_range):\n",
        "    \"\"\"\n",
        "    Plot validation curve for a given hyperparameter.\n",
        "    \"\"\"\n",
        "    train_scores, validation_scores = validation_curve(\n",
        "        model, X_train, y_train, param_name=param_name, param_range=param_range,\n",
        "        cv=5, n_jobs=-1, scoring='accuracy'\n",
        "    )\n",
        "\n",
        "    train_scores_mean = np.mean(train_scores, axis=1)\n",
        "    validation_scores_mean = np.mean(validation_scores, axis=1)\n",
        "\n",
        "    plt.figure(figsize=(10, 6))\n",
        "    plt.plot(param_range, train_scores_mean, 'o-', color='r', label='Training score')\n",
        "    plt.plot(param_range, validation_scores_mean, 'o-', color='g', label='Validation score')\n",
        "    plt.xlabel(param_name)\n",
        "    plt.ylabel('Accuracy')\n",
        "    plt.title('Validation Curve')\n",
        "    plt.legend(loc='best')\n",
        "    plt.grid()\n",
        "    plt.show()\n",
        "param_range = np.arange(1, 21)  # Depths from 1 to 20\n",
        "model = RandomForestClassifier(n_estimators=100, random_state=42)\n",
        "plot_validation_curve(model, X_train_binary, y_train_binary, param_name='max_depth', param_range=param_range)\n"
      ],
      "metadata": {
        "id": "HAdoUQtgYVN-"
      },
      "execution_count": null,
      "outputs": []
    },
    {
      "cell_type": "code",
      "source": [
        "# List of models to evaluate\n",
        "models = {\n",
        "    'Logistic Regression': LogisticRegression(C=1.0, max_iter=200, solver='liblinear', verbose=1),\n",
        "    'Naive Bayes': MultinomialNB(alpha=1.0),\n",
        "    'SVC': SVC(C=1.0, kernel='linear'),\n",
        "    'Random Forest': RandomForestClassifier(n_estimators=100, max_depth=10, random_state=42),\n",
        "    'K-Nearest Neighbors': KNeighborsClassifier(n_neighbors=5, algorithm='auto'),\n",
        "    'Decision Tree': DecisionTreeClassifier(max_depth=5, random_state=42)\n",
        "}\n",
        "\n",
        "# Plot learning curves for binary classification\n",
        "for name, model in models.items():\n",
        "    print(f\"Plotting learning curve for {name}...\")\n",
        "    plot_learning_curves(model, X_train_binary, y_train_binary, X_test_binary, y_test_binary)\n",
        "\n",
        "# Plot validation curves for key hyperparameters\n",
        "print(\"Plotting validation curves for Random Forest...\")\n",
        "plot_validation_curve(RandomForestClassifier(n_estimators=100, random_state=42), X_train_binary, y_train_binary, 'max_depth', np.arange(1, 21))\n"
      ],
      "metadata": {
        "id": "vzHMILImYZad"
      },
      "execution_count": null,
      "outputs": []
    }
  ]
}